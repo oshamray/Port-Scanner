{
  "nbformat": 4,
  "nbformat_minor": 0,
  "metadata": {
    "colab": {
      "name": "PortScanner.ipynb",
      "provenance": []
    },
    "kernelspec": {
      "name": "python3",
      "display_name": "Python 3"
    }
  },
  "cells": [
    {
      "cell_type": "code",
      "metadata": {
        "id": "msVlGmF0JyZN",
        "colab_type": "code",
        "colab": {
          "base_uri": "https://localhost:8080/",
          "height": 33
        },
        "outputId": "42ab2568-b923-42cf-beab-69da02fc8724"
      },
      "source": [
        "pip install colorama"
      ],
      "execution_count": 1,
      "outputs": [
        {
          "output_type": "stream",
          "text": [
            "Requirement already satisfied: colorama in /usr/local/lib/python3.6/dist-packages (0.4.3)\n"
          ],
          "name": "stdout"
        }
      ]
    },
    {
      "cell_type": "code",
      "metadata": {
        "id": "bLAJ4wptKmt7",
        "colab_type": "code",
        "colab": {
          "base_uri": "https://localhost:8080/",
          "height": 117
        },
        "outputId": "734d4e0a-e562-4811-b528-ea023de2d8ba"
      },
      "source": [
        "import socket # for connecting\n",
        "from colorama import init, Fore\n",
        "\n",
        "\n",
        "def is_port_open(host, port):\n",
        "    # creates a new socket\n",
        "    s = socket.socket()\n",
        "    try:\n",
        "        # tries to connect to host using that port\n",
        "        s.connect((host, port))\n",
        "        # make timeout if you want it a little faster ( less accuracy )\n",
        "        s.settimeout(0.2)\n",
        "    except:\n",
        "        # cannot connect, port is closed\n",
        "        # return false\n",
        "        return False\n",
        "    else:\n",
        "        # the connection was established, port is open!\n",
        "        return True\n",
        "\n",
        "# get the host from the user\n",
        "host = input(\"Enter the host:\")\n",
        "# iterate over ports, from 1 to 1024\n",
        "for port in range(78, 1025):\n",
        "    if is_port_open(host, port):\n",
        "        print(\"Port\", port,\",is Open\")\n",
        "    else:\n",
        "        print(\"Port\", port,\",is Closed\")"
      ],
      "execution_count": null,
      "outputs": [
        {
          "output_type": "stream",
          "text": [
            "Enter the host:www.cnn.com\n",
            "Port 78 ,is Closed\n",
            "Port 79 ,is Closed\n",
            "Port 80 ,is Open\n",
            "Port 81 ,is Closed\n",
            "Port 82 ,is Closed\n"
          ],
          "name": "stdout"
        }
      ]
    }
  ]
}